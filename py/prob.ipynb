{
 "cells": [
  {
   "cell_type": "code",
   "execution_count": 97,
   "id": "8262d06d-5407-4315-9051-f25286124d23",
   "metadata": {},
   "outputs": [
    {
     "name": "stdout",
     "output_type": "stream",
     "text": [
      "9.499999999999999e-09\n",
      "4.9450500000000044e-05\n",
      "9.499999999999999e-09\n",
      "4.9450500000000044e-05\n",
      "9.500000000000001e-07\n",
      "0.004945050000000005\n",
      "9.500000000000001e-07\n",
      "0.004945050000000005\n",
      "9.499999999999999e-09\n",
      "0.0009395594999999999\n",
      "9.499999999999999e-09\n",
      "0.0009395594999999999\n",
      "9.500000000000001e-07\n",
      "0.09395595\n",
      "9.500000000000001e-07\n",
      "0.09395595\n"
     ]
    },
    {
     "data": {
      "image/png": "[encoded data removed]",
      "text/plain": [
       "<Figure size 640x480 with 1 Axes>"
      ]
     },
     "metadata": {},
     "output_type": "display_data"
    }
   ],
   "source": [
    "import matplotlib.pyplot as plt \n",
    "\n",
    "a1 = 0.01\n",
    "a2 = 1-a1\n",
    "\n",
    "c1 = 0.001\n",
    "c2 = 1-c1\n",
    "\n",
    "d1 = 0.95\n",
    "d2 = 1-d1\n",
    "d3 = 0.95\n",
    "d4 = 1-d2\n",
    "\n",
    "b1 = 0.001\n",
    "b2 = 0.1\n",
    "b3 = 0.95\n",
    "b4 = 0.99\n",
    "b5 = 1-b1\n",
    "b6 = 1-b2\n",
    "b7 = 1-b3\n",
    "b8 = 1-b4\n",
    "\n",
    "p1  = c1*a1*b1*d1\n",
    "p2  = c2*a2*b1*d2\n",
    "p3  = c1*a1*b1*d1\n",
    "p4  = c2*a2*b1*d2\n",
    "p5  = c1*a1*b2*d1\n",
    "p6  = c2*a2*b2*d2\n",
    "p7  = c1*a1*b2*d1\n",
    "p8  = c2*a2*b2*d2\n",
    "p9  = c1*a1*b1*d3\n",
    "p10 = c2*a2*b1*d4\n",
    "p11 = c1*a1*b1*d3\n",
    "p12 = c2*a2*b1*d4\n",
    "p13 = c1*a1*b2*d3\n",
    "p14 = c2*a2*b2*d4\n",
    "p15 = c1*a1*b2*d3\n",
    "p16 = c2*a2*b2*d4\n",
    "\n",
    "P = [p1,p2,p3,p4,p5,p6,p7,p8,p9,p10,p11,p12,p13,p14,p15,p16]\n",
    "\n",
    "for p in P:\n",
    "    print(p)\n",
    "plt.stem(P)\n",
    "plt.show()\n"
   ]
  },
  {
   "cell_type": "code",
   "execution_count": null,
   "id": "06402af9-506b-43b7-99ee-9245aa843adc",
   "metadata": {},
   "outputs": [],
   "source": []
  },
  {
   "cell_type": "code",
   "execution_count": null,
   "id": "4078df9d-5517-4643-959c-1b8bf5544c4d",
   "metadata": {},
   "outputs": [],
   "source": []
  },
  {
   "cell_type": "code",
   "execution_count": 116,
   "id": "f3643d48-452a-4bfc-9904-dda3c09e4cf0",
   "metadata": {},
   "outputs": [
    {
     "name": "stdout",
     "output_type": "stream",
     "text": [
      "\\begin{center}\n",
      "\\begin{tabular}{|c c c c c c c c|c|}\n",
      "\\hline\n",
      " & & & & & & & & $P$ \\\\\\hline\n",
      "$\\mathsf D^\\mathsfc$& $\\mathsf B^\\mathsfc$ & $\\mathsf A^c$ & $\\mathsf C^c$ &  $\\mathsf 0$  & $\\mathsf 0$  & $\\mathsf 0$  & $\\mathsf 0$   & $p_0$=$\\alpha_0$ \\\\\n",
      "$\\mathsf D^\\mathsfc$& $\\mathsf B^\\mathsfc$ & $\\mathsf A^c$ & $\\mathsf C  $ &  $\\mathsf 0$  & $\\mathsf 0$  & $\\mathsf 0$  & $\\mathsf 1$   & $p_1$=$\\alpha_1$ \\\\\n",
      "$\\mathsf D^\\mathsfc$& $\\mathsf B^\\mathsfc$ & $\\mathsf A  $ & $\\mathsf C^c$ &  $\\mathsf 0$  & $\\mathsf 0$  & $\\mathsf 1$  & $\\mathsf 0$   & $p_2$=$\\alpha_2$ \\\\\n",
      "$\\mathsf D^\\mathsfc$& $\\mathsf B^\\mathsfc$ & $\\mathsf A  $ & $\\mathsf C  $ &  $\\mathsf 0$  & $\\mathsf 0$  & $\\mathsf 1$  & $\\mathsf 1$   & $p_3$=$\\alpha_3$ \\\\\n",
      "$\\mathsf D^\\mathsfc$& $\\mathsf B \\mathsf $ & $\\mathsf A^c$ & $\\mathsf C^c$ &  $\\mathsf 0$  & $\\mathsf 1$  & $\\mathsf 0$  & $\\mathsf 0$   & $p_4$=$\\alpha_4$ \\\\\n",
      "$\\mathsf D^\\mathsfc$& $\\mathsf B \\mathsf $ & $\\mathsf A^c$ & $\\mathsf C  $ &  $\\mathsf 0$  & $\\mathsf 1$  & $\\mathsf 0$  & $\\mathsf 1$   & $p_5$=$\\alpha_5$ \\\\\n",
      "$\\mathsf D^\\mathsfc$& $\\mathsf B \\mathsf $ & $\\mathsf A  $ & $\\mathsf C^c$ &  $\\mathsf 0$  & $\\mathsf 1$  & $\\mathsf 1$  & $\\mathsf 0$   & $p_6$=$\\alpha_6$ \\\\\n",
      "$\\mathsf D^\\mathsfc$& $\\mathsf B \\mathsf $ & $\\mathsf A  $ & $\\mathsf C  $ &  $\\mathsf 0$  & $\\mathsf 1$  & $\\mathsf 1$  & $\\mathsf 1$   & $p_7$=$\\alpha_7$ \\\\\n",
      "$\\mathsf D \\mathsf $& $\\mathsf B^\\mathsfc$ & $\\mathsf A^c$ & $\\mathsf C^c$ &  $\\mathsf 1$  & $\\mathsf 0$  & $\\mathsf 0$  & $\\mathsf 0$   & $p_8$=$\\alpha_8$ \\\\\n",
      "$\\mathsf D \\mathsf $& $\\mathsf B^\\mathsfc$ & $\\mathsf A^c$ & $\\mathsf C  $ &  $\\mathsf 1$  & $\\mathsf 0$  & $\\mathsf 0$  & $\\mathsf 1$   & $p_9$=$\\alpha_9$ \\\\\n",
      "$\\mathsf D \\mathsf $& $\\mathsf B^\\mathsfc$ & $\\mathsf A  $ & $\\mathsf C^c$ &  $\\mathsf 1$  & $\\mathsf 0$  & $\\mathsf 1$  & $\\mathsf 0$   & $p_10$=$\\alpha_10$ \\\\\n",
      "$\\mathsf D \\mathsf $& $\\mathsf B^\\mathsfc$ & $\\mathsf A  $ & $\\mathsf C  $ &  $\\mathsf 1$  & $\\mathsf 0$  & $\\mathsf 1$  & $\\mathsf 1$   & $p_11$=$\\alpha_11$ \\\\\n",
      "$\\mathsf D \\mathsf $& $\\mathsf B \\mathsf $ & $\\mathsf A^c$ & $\\mathsf C^c$ &  $\\mathsf 1$  & $\\mathsf 1$  & $\\mathsf 0$  & $\\mathsf 0$   & $p_12$=$\\alpha_12$ \\\\\n",
      "$\\mathsf D \\mathsf $& $\\mathsf B \\mathsf $ & $\\mathsf A^c$ & $\\mathsf C  $ &  $\\mathsf 1$  & $\\mathsf 1$  & $\\mathsf 0$  & $\\mathsf 1$   & $p_13$=$\\alpha_13$ \\\\\n",
      "$\\mathsf D \\mathsf $& $\\mathsf B \\mathsf $ & $\\mathsf A  $ & $\\mathsf C^c$ &  $\\mathsf 1$  & $\\mathsf 1$  & $\\mathsf 1$  & $\\mathsf 0$   & $p_14$=$\\alpha_14$ \\\\\n",
      "$\\mathsf D \\mathsf $& $\\mathsf B \\mathsf $ & $\\mathsf A  $ & $\\mathsf C  $ &  $\\mathsf 1$  & $\\mathsf 1$  & $\\mathsf 1$  & $\\mathsf 1$   & $p_15$=$\\alpha_15$ \\\\\n",
      "\\end{tabular}\n",
      "\\end{center}\n"
     ]
    }
   ],
   "source": [
    "print(\"\\\\begin{center}\")\n",
    "print(\"\\\\begin{tabular}{|c c c c c c c c|c|}\") \n",
    "print(\"\\\\hline\")\n",
    "print(\" & & & & & & & & $P$ \\\\\\\\\\hline\")      \n",
    "for i in range(0,len(text)):\n",
    "    print(f\"$\\mathsf {text[i][0]}{text[i][1]}\\mathsf{text[i][2]}$& $\\mathsf {text[i][3]}{text[i][4]}\\mathsf{text[i][5]}$ & $\\mathsf {text[i][6]}{text[i][7]}{text[i][8]}$ & $\\mathsf {text[i][9]}{text[i][10]}{text[i][11]}$ &  $\\mathsf {binary[i][0]}$  & $\\mathsf {binary[i][1]}$  & $\\mathsf {binary[i][2]}$  & $\\mathsf {binary[i][3]}$   & $p_{i}$=$\\\\alpha_{i}$ \\\\\\\\\") #$p_{i}$={P[i]:,.2e}\n",
    "print(\"\\\\end{tabular}\")      \n",
    "print(\"\\\\end{center}\")  \n",
    "\n",
    "\n",
    "\n",
    "\n",
    "\n",
    "    \n",
    "    \n",
    "    \n",
    "    "
   ]
  },
  {
   "cell_type": "code",
   "execution_count": 100,
   "id": "46ceb7ea-ddc4-4546-901c-3c66dbc2750d",
   "metadata": {},
   "outputs": [
    {
     "data": {
      "text/plain": [
       "20"
      ]
     },
     "execution_count": 100,
     "metadata": {},
     "output_type": "execute_result"
    }
   ],
   "source": [
    "len(text[0])"
   ]
  },
  {
   "cell_type": "code",
   "execution_count": null,
   "id": "57c09b39-97f8-4503-b1f0-07e6d7430094",
   "metadata": {},
   "outputs": [],
   "source": []
  }
 ],
 "metadata": {
  "kernelspec": {
   "display_name": "Python 3 (ipykernel)",
   "language": "python",
   "name": "python3"
  },
  "language_info": {
   "codemirror_mode": {
    "name": "ipython",
    "version": 3
   },
   "file_extension": ".py",
   "mimetype": "text/x-python",
   "name": "python",
   "nbconvert_exporter": "python",
   "pygments_lexer": "ipython3",
   "version": "3.8.20"
  }
 },
 "nbformat": 4,
 "nbformat_minor": 5
}
